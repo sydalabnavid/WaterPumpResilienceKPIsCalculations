{
  "nbformat": 4,
  "nbformat_minor": 0,
  "metadata": {
    "colab": {
      "provenance": []
    },
    "kernelspec": {
      "name": "python3",
      "display_name": "Python 3"
    },
    "language_info": {
      "name": "python"
    }
  },
  "cells": [
    {
      "cell_type": "code",
      "execution_count": 1,
      "metadata": {
        "colab": {
          "base_uri": "https://localhost:8080/"
        },
        "id": "mxheqDAKZOmv",
        "outputId": "37e1d227-33f8-4aa9-f98f-40f6aa28e748"
      },
      "outputs": [
        {
          "output_type": "stream",
          "name": "stdout",
          "text": [
            "Total observations: 130097\n",
            "Number of failures: 5\n",
            "Probability of failure: 3.843286163401154e-05\n"
          ]
        }
      ],
      "source": [
        "import pandas as pd\n",
        "\n",
        "# Load the data from the CSV file\n",
        "data = pd.read_csv('/content/sample_data/sensor.csv')\n",
        "\n",
        "# Calculate the total number of observations\n",
        "total_observations = len(data)\n",
        "\n",
        "# Count the number of times the \"machine_status\" is \"BROKEN\"\n",
        "broken_count = data[data['machine_status'] == 'BROKEN'].shape[0]\n",
        "\n",
        "# Calculate the probability of failure\n",
        "probability_of_failure = broken_count / total_observations\n",
        "\n",
        "# Print the results\n",
        "print(f'Total observations: {total_observations}')\n",
        "print(f'Number of failures: {broken_count}')\n",
        "print(f'Probability of failure: {probability_of_failure}')\n"
      ]
    },
    {
      "cell_type": "code",
      "source": [
        "import pandas as pd\n",
        "\n",
        "# Load the data from the CSV file\n",
        "data = pd.read_csv('/content/sample_data/sensor.csv')\n",
        "\n",
        "# Ensure the timestamp column is in datetime format\n",
        "data['timestamp'] = pd.to_datetime(data['timestamp'])\n",
        "\n",
        "# Sort the data by timestamp just in case\n",
        "data = data.sort_values(by='timestamp')\n",
        "\n",
        "# Initialize variables\n",
        "recovery_times = []\n",
        "in_recovery = False\n",
        "recovery_start = None\n",
        "\n",
        "# Iterate over the rows of the DataFrame\n",
        "for index, row in data.iterrows():\n",
        "    if row['machine_status'] == 'RECOVERING' and not in_recovery:\n",
        "        # Start of a recovery period\n",
        "        in_recovery = True\n",
        "        recovery_start = row['timestamp']\n",
        "    elif row['machine_status'] != 'RECOVERING' and in_recovery:\n",
        "        # End of a recovery period\n",
        "        in_recovery = False\n",
        "        recovery_end = row['timestamp']\n",
        "        recovery_time = (recovery_end - recovery_start).total_seconds() / 60  # Convert to minutes\n",
        "        recovery_times.append(recovery_time)\n",
        "        if len(recovery_times) == 7:\n",
        "            break\n",
        "\n",
        "# Print the recovery times for the first 7 failures\n",
        "for i, rt in enumerate(recovery_times, 1):\n",
        "    print(f'Recovery time after failure {i}: {rt} minutes')"
      ],
      "metadata": {
        "colab": {
          "base_uri": "https://localhost:8080/"
        },
        "id": "2FNchk1Da4Fi",
        "outputId": "086f1a8c-8c52-4305-d308-91d900048655"
      },
      "execution_count": 3,
      "outputs": [
        {
          "output_type": "stream",
          "name": "stdout",
          "text": [
            "Recovery time after failure 1: 944.0 minutes\n",
            "Recovery time after failure 2: 3110.0 minutes\n",
            "Recovery time after failure 3: 1312.0 minutes\n",
            "Recovery time after failure 4: 605.0 minutes\n",
            "Recovery time after failure 5: 8390.0 minutes\n",
            "Recovery time after failure 6: 41.0 minutes\n",
            "Recovery time after failure 7: 75.0 minutes\n"
          ]
        }
      ]
    },
    {
      "cell_type": "code",
      "source": [
        "import pandas as pd\n",
        "\n",
        "# Load the data from the CSV file\n",
        "data = pd.read_csv('/content/sample_data/sensor.csv')\n",
        "\n",
        "# Ensure the timestamp column is in datetime format\n",
        "data['timestamp'] = pd.to_datetime(data['timestamp'])\n",
        "\n",
        "# Sort the data by timestamp just in case\n",
        "data = data.sort_values(by='timestamp')\n",
        "\n",
        "# Calculate the total number of observations\n",
        "total_observations = len(data)\n",
        "\n",
        "# Count the number of times the \"machine_status\" is \"BROKEN\"\n",
        "broken_count = data[data['machine_status'] == 'BROKEN'].shape[0]\n",
        "\n",
        "# Calculate the probability of failure\n",
        "probability_of_failure = broken_count / total_observations\n",
        "\n",
        "# Print the overall results\n",
        "print(f'Total observations: {total_observations}')\n",
        "print(f'Number of failures: {broken_count}')\n",
        "print(f'Probability of failure: {probability_of_failure}')\n",
        "\n",
        "# Calculate the average probability of failures per month\n",
        "data['month'] = data['timestamp'].dt.to_period('M')\n",
        "monthly_failure_counts = data[data['machine_status'] == 'BROKEN'].groupby('month').size()\n",
        "monthly_total_counts = data.groupby('month').size()\n",
        "monthly_probabilities = monthly_failure_counts / monthly_total_counts\n",
        "\n",
        "average_monthly_probability = monthly_probabilities.mean()\n",
        "\n",
        "# Print the average monthly probability of failures\n",
        "print(f'Average monthly probability of failures: {average_monthly_probability}')\n"
      ],
      "metadata": {
        "colab": {
          "base_uri": "https://localhost:8080/"
        },
        "id": "1f9w6RCobIsV",
        "outputId": "55112cd7-1e2f-4586-9a3f-adf0792514ff"
      },
      "execution_count": 5,
      "outputs": [
        {
          "output_type": "stream",
          "name": "stdout",
          "text": [
            "Total observations: 220320\n",
            "Number of failures: 7\n",
            "Probability of failure: 3.177196804647785e-05\n",
            "Average monthly probability of failures: 3.976254480286738e-05\n"
          ]
        }
      ]
    },
    {
      "cell_type": "code",
      "source": [
        "import pandas as pd\n",
        "\n",
        "# Load the data from the CSV file\n",
        "data = pd.read_csv('/content/sample_data/sensor.csv')\n",
        "\n",
        "# Ensure the timestamp column is in datetime format\n",
        "data['timestamp'] = pd.to_datetime(data['timestamp'])\n",
        "\n",
        "# Sort the data by timestamp just in case\n",
        "data = data.sort_values(by='timestamp')\n",
        "\n",
        "# Create columns for 'date' and 'month'\n",
        "data['date'] = data['timestamp'].dt.date\n",
        "data['month'] = data['timestamp'].dt.to_period('M')\n",
        "\n",
        "# Group by date to determine if there was a failure on each day\n",
        "daily_status = data.groupby('date')['machine_status'].apply(lambda x: 'BROKEN' in x.values).reset_index()\n",
        "daily_status.columns = ['date', 'is_broken']\n",
        "daily_status['month'] = pd.to_datetime(daily_status['date']).dt.to_period('M')\n",
        "\n",
        "# Calculate the number of days with failures and without failures for each month\n",
        "monthly_summary = daily_status.groupby('month')['is_broken'].value_counts().unstack(fill_value=0)\n",
        "monthly_summary.columns = ['Not Broken', 'Broken']\n",
        "monthly_summary['Total Days'] = monthly_summary['Not Broken'] + monthly_summary['Broken']\n",
        "monthly_summary['Percentage of Failures'] = (monthly_summary['Broken'] / monthly_summary['Total Days']) * 100\n",
        "\n",
        "# Calculate the average percentage of failures per month across all periods\n",
        "average_percentage_failures = monthly_summary['Percentage of Failures'].mean()\n",
        "\n",
        "# Print the results for each month\n",
        "print(monthly_summary)\n",
        "\n",
        "# Print the average percentage of failures per month across the entire period\n",
        "print(f'Average percentage of failures per month across all periods: {average_percentage_failures:.2f}%')\n"
      ],
      "metadata": {
        "colab": {
          "base_uri": "https://localhost:8080/"
        },
        "id": "DYG0DUujbvYQ",
        "outputId": "4d939474-0a90-4a8c-9719-e9dae0c57c36"
      },
      "execution_count": 9,
      "outputs": [
        {
          "output_type": "stream",
          "name": "stdout",
          "text": [
            "         Not Broken  Broken  Total Days  Percentage of Failures\n",
            "month                                                          \n",
            "2018-04          28       2          30                6.666667\n",
            "2018-05          29       2          31                6.451613\n",
            "2018-06          29       1          30                3.333333\n",
            "2018-07          29       2          31                6.451613\n",
            "2018-08          31       0          31                0.000000\n",
            "Average percentage of failures per month across all periods: 4.58%\n"
          ]
        }
      ]
    },
    {
      "cell_type": "code",
      "source": [
        "import pandas as pd\n",
        "\n",
        "# Load the data from the CSV file\n",
        "data = pd.read_csv('/content/sample_data/sensor.csv')\n",
        "\n",
        "# Ensure the timestamp column is in datetime format\n",
        "data['timestamp'] = pd.to_datetime(data['timestamp'])\n",
        "\n",
        "# Sort the data by timestamp just in case\n",
        "data = data.sort_values(by='timestamp')\n",
        "\n",
        "# Identify the indices where the machine_status is \"BROKEN\" or \"RECOVERING\"\n",
        "disturbance_indices = data[data['machine_status'].isin(['BROKEN', 'RECOVERING'])].index\n",
        "\n",
        "# Initialize lists to store results\n",
        "results = []\n",
        "\n",
        "# Loop through each disturbance index and find the minimum performance after the disturbance\n",
        "for idx in disturbance_indices:\n",
        "    # Find the next index where the machine status is neither \"BROKEN\" nor \"RECOVERING\"\n",
        "    next_idx = data.loc[idx:].index[data.loc[idx:]['machine_status'].isin(['BROKEN', 'RECOVERING']) == False]\n",
        "\n",
        "    # Ensure we have a valid next index\n",
        "    if len(next_idx) == 0:\n",
        "        continue\n",
        "    next_idx = next_idx[0]\n",
        "\n",
        "    # Get the minimum performance level between the disturbance index and the next non-disturbance index\n",
        "    min_performance = data.loc[idx:next_idx]['sensor_06'].min()\n",
        "\n",
        "    # Append the result\n",
        "    results.append({\n",
        "        'Disturbance Type': data.loc[idx, 'machine_status'],\n",
        "        'Disturbance Timestamp': data.loc[idx, 'timestamp'],\n",
        "        'Min Performance': min_performance\n",
        "    })\n",
        "\n",
        "# Convert results to a DataFrame\n",
        "results_df = pd.DataFrame(results)\n",
        "\n",
        "# Sort the results by the disturbance timestamp\n",
        "results_df = results_df.sort_values(by='Disturbance Timestamp').reset_index(drop=True)\n",
        "\n",
        "# Display the results\n",
        "print(results_df)\n"
      ],
      "metadata": {
        "colab": {
          "base_uri": "https://localhost:8080/"
        },
        "id": "-yUzSKEseUeH",
        "outputId": "2ddbebd3-cc53-4971-e48f-d9ed27edc148"
      },
      "execution_count": 11,
      "outputs": [
        {
          "output_type": "stream",
          "name": "stdout",
          "text": [
            "      Disturbance Type Disturbance Timestamp  Min Performance\n",
            "0               BROKEN   2018-04-12 21:55:00         0.014468\n",
            "1           RECOVERING   2018-04-12 21:56:00         0.014468\n",
            "2           RECOVERING   2018-04-12 21:57:00         0.014468\n",
            "3           RECOVERING   2018-04-12 21:58:00         0.014468\n",
            "4           RECOVERING   2018-04-12 21:59:00         0.014468\n",
            "...                ...                   ...              ...\n",
            "14479       RECOVERING   2018-07-25 15:11:00        11.335360\n",
            "14480       RECOVERING   2018-07-25 15:12:00        11.335360\n",
            "14481       RECOVERING   2018-07-25 15:13:00        11.335360\n",
            "14482       RECOVERING   2018-07-25 15:14:00        11.335360\n",
            "14483       RECOVERING   2018-07-25 15:15:00        11.335360\n",
            "\n",
            "[14484 rows x 3 columns]\n"
          ]
        }
      ]
    },
    {
      "cell_type": "code",
      "source": [
        "import pandas as pd\n",
        "\n",
        "# Load the data from the CSV file\n",
        "data = pd.read_csv('/content/sample_data/sensor.csv')\n",
        "\n",
        "# Ensure the timestamp column is in datetime format\n",
        "data['timestamp'] = pd.to_datetime(data['timestamp'])\n",
        "\n",
        "# Sort the data by timestamp just in case\n",
        "data = data.sort_values(by='timestamp')\n",
        "\n",
        "# Identify the indices where the machine_status is \"BROKEN\"\n",
        "broken_indices = data[data['machine_status'] == 'BROKEN'].index\n",
        "\n",
        "# Initialize a list to store the minimum performance levels after each failure\n",
        "min_performance_levels = []\n",
        "\n",
        "# Loop through each broken index and find the minimum performance after the failure\n",
        "for idx in broken_indices[:7]:  # Only consider the first 7 failures\n",
        "    # Find the next index where the machine status is no longer \"BROKEN\"\n",
        "    next_idx = data.loc[idx:].index[data.loc[idx:]['machine_status'] != 'BROKEN'][0]\n",
        "\n",
        "    # Get the minimum performance level between the broken index and the next non-broken index\n",
        "    min_performance = data.loc[idx:next_idx]['sensor_06'].min()\n",
        "    min_performance_levels.append(min_performance)\n",
        "\n",
        "# Print the minimum performance levels after each of the first 7 failures\n",
        "for i, performance in enumerate(min_performance_levels, 1):\n",
        "    print(f'Minimum performance after failure {i}: {performance}')\n"
      ],
      "metadata": {
        "colab": {
          "base_uri": "https://localhost:8080/"
        },
        "id": "h3ElkJvdet82",
        "outputId": "fb1c9ef3-6db2-4cd8-feea-23318696b345"
      },
      "execution_count": 12,
      "outputs": [
        {
          "output_type": "stream",
          "name": "stdout",
          "text": [
            "Minimum performance after failure 1: 3.045428\n",
            "Minimum performance after failure 2: 5.005787000000001\n",
            "Minimum performance after failure 3: 13.46933\n",
            "Minimum performance after failure 4: 0.02893518\n",
            "Minimum performance after failure 5: 11.33536\n",
            "Minimum performance after failure 6: 0.0289351847022772\n",
            "Minimum performance after failure 7: 14.18547\n"
          ]
        }
      ]
    },
    {
      "cell_type": "code",
      "source": [
        "import pandas as pd\n",
        "\n",
        "# Load the data from the CSV file\n",
        "data = pd.read_csv('/content/sample_data/sensor.csv')\n",
        "\n",
        "# Ensure the timestamp column is in datetime format\n",
        "data['timestamp'] = pd.to_datetime(data['timestamp'])\n",
        "\n",
        "# Sort the data by timestamp\n",
        "data = data.sort_values(by='timestamp')\n",
        "\n",
        "# Identify indices where machine_status is \"BROKEN\" or \"RECOVERING\"\n",
        "disturbance_indices = data[data['machine_status'].isin(['BROKEN', 'RECOVERING'])].index\n",
        "\n",
        "# Initialize a list to store results\n",
        "results = []\n",
        "seen_performances = set()\n",
        "\n",
        "# Loop through each disturbance index and find the minimum performance after the disturbance\n",
        "for idx in disturbance_indices:\n",
        "    # Find the next index where the machine status is neither \"BROKEN\" nor \"RECOVERING\"\n",
        "    next_idx = data.loc[idx:].index[data.loc[idx:]['machine_status'].isin(['BROKEN', 'RECOVERING']) == False]\n",
        "\n",
        "    # Ensure we have a valid next index\n",
        "    if len(next_idx) == 0:\n",
        "        continue\n",
        "    next_idx = next_idx[0]\n",
        "\n",
        "    # Get the minimum performance level between the disturbance index and the next non-disturbance index\n",
        "    min_performance = data.loc[idx:next_idx]['sensor_06'].min()\n",
        "\n",
        "    # Check if this minimum performance has been seen before\n",
        "    if min_performance not in seen_performances:\n",
        "        # Append the result if the minimum performance is unique\n",
        "        results.append({\n",
        "            'Disturbance Type': data.loc[idx, 'machine_status'],\n",
        "            'Disturbance Timestamp': data.loc[idx, 'timestamp'],\n",
        "            'Min Performance': min_performance\n",
        "        })\n",
        "        seen_performances.add(min_performance)\n",
        "\n",
        "    # Stop if we have collected data for 7 unique failures\n",
        "    if len(results) == 7:\n",
        "        break\n",
        "\n",
        "# Convert results to a DataFrame\n",
        "results_df = pd.DataFrame(results)\n",
        "\n",
        "# Sort the results by the disturbance timestamp\n",
        "results_df = results_df.sort_values(by='Disturbance Timestamp').reset_index(drop=True)\n",
        "\n",
        "# Display the results\n",
        "print(results_df)\n"
      ],
      "metadata": {
        "colab": {
          "base_uri": "https://localhost:8080/"
        },
        "id": "qRCO_zQxhIdH",
        "outputId": "5b4cab2d-68c0-4bd0-fec6-06eb5cdcb29c"
      },
      "execution_count": 14,
      "outputs": [
        {
          "output_type": "stream",
          "name": "stdout",
          "text": [
            "  Disturbance Type Disturbance Timestamp  Min Performance\n",
            "0           BROKEN   2018-04-12 21:55:00         0.014468\n",
            "1       RECOVERING   2018-04-13 11:16:00         0.028935\n",
            "2       RECOVERING   2018-04-13 11:48:00         6.438078\n",
            "3       RECOVERING   2018-04-13 13:17:00         6.474247\n",
            "4       RECOVERING   2018-04-13 13:18:00         6.524884\n",
            "5       RECOVERING   2018-04-13 13:32:00         6.553819\n",
            "6       RECOVERING   2018-04-13 13:38:00         6.575521\n"
          ]
        }
      ]
    },
    {
      "cell_type": "code",
      "source": [],
      "metadata": {
        "id": "Ol2W3IdViVLD"
      },
      "execution_count": null,
      "outputs": []
    }
  ]
}